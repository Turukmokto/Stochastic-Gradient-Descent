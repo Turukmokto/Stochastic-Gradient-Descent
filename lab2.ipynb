{
 "cells": [
  {
   "cell_type": "markdown",
   "source": [
    "# Лабораторная работа #2. Стохастический градиентный спуск\n",
    "**Выполнили**: Бессонницын Евгений (M32341), Чеботарева Олеся (М34351), Фадеев Олег (M32351)\n"
   ],
   "metadata": {
    "collapsed": false
   }
  },
  {
   "cell_type": "code",
   "execution_count": 37,
   "outputs": [
    {
     "name": "stdout",
     "output_type": "stream",
     "text": [
      "Requirement already satisfied: memory_profiler in /Users/esbessonngmail.com/miniconda3/lib/python3.9/site-packages (0.60.0)\r\n",
      "Requirement already satisfied: psutil in /Users/esbessonngmail.com/miniconda3/lib/python3.9/site-packages (from memory_profiler) (5.9.0)\r\n"
     ]
    }
   ],
   "source": [
    "import copy\n",
    "\n",
    "import numpy\n",
    "!pip install memory_profiler"
   ],
   "metadata": {
    "collapsed": false,
    "pycharm": {
     "name": "#%%\n"
    }
   }
  },
  {
   "cell_type": "code",
   "source": [
    "import numpy as np\n",
    "import matplotlib.pyplot as plt\n",
    "from memory_profiler import memory_usage\n",
    "from sklearn.datasets import make_regression\n",
    "from sklearn.model_selection import train_test_split"
   ],
   "metadata": {
    "collapsed": false,
    "pycharm": {
     "name": "#%%\n"
    }
   },
   "execution_count": 38,
   "outputs": []
  },
  {
   "cell_type": "markdown",
   "source": [
    "## Пункт #1: Стохастический градиентный спуск"
   ],
   "metadata": {
    "collapsed": false
   }
  },
  {
   "cell_type": "code",
   "execution_count": 39,
   "outputs": [],
   "source": [
    "RANDOM_CONST = 42\n",
    "TEST_SIZE = 0.2\n",
    "np.random.seed(RANDOM_CONST)"
   ],
   "metadata": {
    "collapsed": false,
    "pycharm": {
     "name": "#%%\n"
    }
   }
  },
  {
   "cell_type": "code",
   "execution_count": 40,
   "outputs": [],
   "source": [
    "def predict(w, x):\n",
    "    return np.dot(w, x)\n",
    "\n",
    "def calc_diff(w, x, y):\n",
    "    return 2 * (predict(w, x) - y) * x\n",
    "\n",
    "def calc_error(w, x, y):\n",
    "    return (predict(w, x) - y) ** 2\n",
    "\n",
    "def validate(w, X, Y):\n",
    "    errors = [calc_error(w, X[i], Y[i]) for i in range(len(X) - 1)]\n",
    "    return sum(errors) / len(X)"
   ],
   "metadata": {
    "collapsed": false,
    "pycharm": {
     "name": "#%%\n"
    }
   }
  },
  {
   "cell_type": "code",
   "execution_count": 41,
   "outputs": [],
   "source": [
    "def SGD(minibatch_size, num_iters, lr, X, Y):\n",
    "    n = len(X)\n",
    "    w = np.zeros(len(X[0]))\n",
    "    for i in range(num_iters):\n",
    "        perm = np.random.permutation(n)\n",
    "        for k in range(0, n, minibatch_size):\n",
    "            grad = np.zeros(len(X[0]))\n",
    "            for j in range(min(minibatch_size, n - k - 1)):\n",
    "                idx = perm[k + j]\n",
    "                grad += calc_diff(w, X[idx], Y[idx])\n",
    "            w -= lr * grad\n",
    "    return w"
   ],
   "metadata": {
    "collapsed": false,
    "pycharm": {
     "name": "#%%\n"
    }
   }
  },
  {
   "cell_type": "code",
   "execution_count": 42,
   "outputs": [
    {
     "data": {
      "text/plain": "<Figure size 432x288 with 1 Axes>",
      "image/png": "[encoded data removed]"
     },
     "metadata": {
      "needs_background": "light"
     },
     "output_type": "display_data"
    }
   ],
   "source": [
    "X, Y = make_regression(n_samples=100, n_features=10)\n",
    "\n",
    "new_X = [np.concatenate((np.array([1]), x), axis=None) for x in X]\n",
    "X = new_X\n",
    "\n",
    "X_train, X_test, Y_train, Y_test = train_test_split(X, Y, test_size=TEST_SIZE, random_state=RANDOM_CONST)\n",
    "\n",
    "x = [i for i in range(1, 100 + 1)]\n",
    "y = [validate(SGD(i, 100, 0.0001, X_train, Y_train), X_test, Y_test) for i in range(1, 100 + 1)]\n",
    "plt.plot(x, y)\n",
    "plt.show()"
   ],
   "metadata": {
    "collapsed": false,
    "pycharm": {
     "name": "#%%\n"
    }
   }
  },
  {
   "cell_type": "markdown",
   "source": [
    "## Пункт #3: Модификации"
   ],
   "metadata": {
    "collapsed": false
   }
  },
  {
   "cell_type": "code",
   "execution_count": 43,
   "outputs": [],
   "source": [
    "eps = 1e-8\n",
    "\n",
    "def step_simple(lr, grad, w_i, prev_g):\n",
    "    res = lr * grad(w_i)\n",
    "    prev = lr * grad(w_i)\n",
    "    return res, prev\n",
    "\n",
    "def step_Nesterov(lr, grad, w_i, prev_g):\n",
    "    res = lr * grad(w_i - 0.99 * prev_g) + 0.99 * prev_g\n",
    "    prev = lr * grad(w_i - 0.99 * prev_g) + 0.99 * prev_g\n",
    "    return res, prev\n",
    "\n",
    "def step_momentum(lr, grad, w_i, prev_g):\n",
    "    res = lr * grad(w_i) + 0.8 * prev_g\n",
    "    prev = lr * grad(w_i) + 0.8 * prev_g\n",
    "    return res, prev\n",
    "\n",
    "def step_adagrad(lr, grad, w_i, prev_g):\n",
    "    curr_grad = grad(w_i)\n",
    "    tmp = [prev_g[j] + (curr_grad[j]) ** 2 for j in range(len(prev_g))]\n",
    "    rate = [0.9 / (tmp[i] + eps) ** 0.5 for i in range(len(tmp))]\n",
    "    return curr_grad * rate, tmp"
   ],
   "metadata": {
    "collapsed": false,
    "pycharm": {
     "name": "#%%\n"
    }
   }
  },
  {
   "cell_type": "code",
   "execution_count": 44,
   "outputs": [],
   "source": [
    "def SGD_with_mods(minibatch_size, num_iters, lr, mod, X, Y):\n",
    "    n = len(X)\n",
    "    ws = []\n",
    "    trace = []\n",
    "    w = np.zeros(len(X[0]))\n",
    "    for i in range(num_iters):\n",
    "        perm = np.random.permutation(n)\n",
    "        k = 0\n",
    "        if i % 10 == 0:\n",
    "            trace.append([X[perm[0]], Y[perm[0]]])\n",
    "\n",
    "        def calc_grad(w):\n",
    "            grad = np.zeros(len(X[0]))\n",
    "            for j in range(min(minibatch_size, n - k - 1)):\n",
    "                idx = perm[k + j]\n",
    "                grad = grad + calc_diff(w, X[idx], Y[idx])\n",
    "            return grad\n",
    "\n",
    "        prev_g = np.zeros(len(X[0]))\n",
    "        while k < n:\n",
    "            tmp, prev = mod(lr, calc_grad, w, prev_g)\n",
    "            w = w - tmp\n",
    "            prev_g = copy.deepcopy(prev)\n",
    "            k += minibatch_size\n",
    "        if i % 10 == 0:\n",
    "            ws.append(w)\n",
    "    return w, ws, trace"
   ],
   "metadata": {
    "collapsed": false,
    "pycharm": {
     "name": "#%%\n"
    }
   }
  },
  {
   "cell_type": "code",
   "execution_count": 45,
   "outputs": [],
   "source": [
    "num_features = 100\n",
    "num_samples = 100\n",
    "tmp, Y = make_regression(n_samples=num_samples, n_features=num_features)\n",
    "\n",
    "Y = np.array(Y, dtype=numpy.float64)\n",
    "\n",
    "X = []\n",
    "for x in tmp:\n",
    "    arr = [1]\n",
    "    for elem in x:\n",
    "        arr.append(elem)\n",
    "    X.append(np.array(arr, dtype=numpy.float64))\n",
    "\n",
    "X_train, X_test, Y_train, Y_test = train_test_split(X, Y, test_size=TEST_SIZE, random_state=RANDOM_CONST)"
   ],
   "metadata": {
    "collapsed": false,
    "pycharm": {
     "name": "#%%\n"
    }
   }
  },
  {
   "cell_type": "code",
   "execution_count": 46,
   "outputs": [
    {
     "data": {
      "text/plain": "<Figure size 432x288 with 1 Axes>",
      "image/png": "[encoded data removed]"
     },
     "metadata": {
      "needs_background": "light"
     },
     "output_type": "display_data"
    }
   ],
   "source": [
    "w, ws, trace = SGD_with_mods(50, 1000, 0.001, step_simple, X_train, Y_train)  # refactoring grafics\n",
    "y = [(trace[i][1] - predict(ws[i], trace[i][0])) ** 2 for i in range(len(trace))]\n",
    "x = [i for i in range(len(trace))]\n",
    "plt.plot(x, y)\n",
    "plt.show()"
   ],
   "metadata": {
    "collapsed": false,
    "pycharm": {
     "name": "#%%\n"
    }
   }
  },
  {
   "cell_type": "code",
   "execution_count": 47,
   "outputs": [
    {
     "data": {
      "text/plain": "<Figure size 432x288 with 1 Axes>",
      "image/png": "[encoded data removed]"
     },
     "metadata": {
      "needs_background": "light"
     },
     "output_type": "display_data"
    }
   ],
   "source": [
    "w, ws, trace = SGD_with_mods(50, 1000, 0.001, step_momentum, X_train, Y_train)\n",
    "y = [(trace[i][1] - predict(ws[i], trace[i][0])) ** 2 for i in range(len(trace))]\n",
    "x = [i for i in range(len(trace))]\n",
    "plt.plot(x, y)\n",
    "plt.show()"
   ],
   "metadata": {
    "collapsed": false,
    "pycharm": {
     "name": "#%%\n"
    }
   }
  },
  {
   "cell_type": "code",
   "execution_count": 48,
   "outputs": [
    {
     "data": {
      "text/plain": "<Figure size 432x288 with 1 Axes>",
      "image/png": "[encoded data removed]"
     },
     "metadata": {
      "needs_background": "light"
     },
     "output_type": "display_data"
    }
   ],
   "source": [
    "w, ws, trace = SGD_with_mods(50, 1000, 0.001, step_Nesterov, X_train, Y_train)\n",
    "y = [(trace[i][1] - predict(ws[i], trace[i][0])) ** 2 for i in range(len(trace))]\n",
    "x = [i for i in range(len(trace))]\n",
    "plt.plot(x, y)\n",
    "plt.show()"
   ],
   "metadata": {
    "collapsed": false,
    "pycharm": {
     "name": "#%%\n"
    }
   }
  },
  {
   "cell_type": "code",
   "execution_count": 49,
   "outputs": [
    {
     "data": {
      "text/plain": "<Figure size 432x288 with 1 Axes>",
      "image/png": "[encoded data removed]"
     },
     "metadata": {
      "needs_background": "light"
     },
     "output_type": "display_data"
    }
   ],
   "source": [
    "w, ws, trace = SGD_with_mods(50, 1000, 0.001, step_adagrad, X_train, Y_train)\n",
    "y = [(trace[i][1] - predict(ws[i], trace[i][0])) ** 2 for i in range(len(ws))]\n",
    "x = [i for i in range(len(ws))]\n",
    "\n",
    "plt.plot(x, y)\n",
    "plt.show()"
   ],
   "metadata": {
    "collapsed": false,
    "pycharm": {
     "name": "#%%\n"
    }
   }
  },
  {
   "cell_type": "markdown",
   "source": [
    "## Пункт #4: Исследование сходимости разных алгоритмов"
   ],
   "metadata": {
    "collapsed": false
   }
  },
  {
   "cell_type": "code",
   "execution_count": 55,
   "outputs": [
    {
     "name": "stdout",
     "output_type": "stream",
     "text": [
      "-------------------------===-------------------------\n",
      "\n",
      "Algo:  No modification\n",
      "Minibatch size  20\n",
      "Error  1.960486982416574e-27\n",
      "Time: 0.6103389263153076 sec\n",
      "Gradient calls:  178000\n",
      "-------------------------===-------------------------\n",
      "\n",
      "Algo:  Momentum\n",
      "Minibatch size  20\n",
      "Error  5.235374005112398e-28\n",
      "Time: 0.5551490783691406 sec\n",
      "Gradient calls:  178000\n",
      "-------------------------===-------------------------\n",
      "\n",
      "Algo:  Nesterov\n",
      "Minibatch size  20\n",
      "Error  5.228570079804866e-28\n",
      "Time: 0.5761611461639404 sec\n",
      "Gradient calls:  178000\n",
      "-------------------------===-------------------------\n",
      "\n",
      "Algo:  Adagrad\n",
      "Minibatch size  20\n",
      "Error  0.003141188191566517\n",
      "Time: 0.3207540512084961 sec\n",
      "Gradient calls:  99000\n",
      "-------------------------===-------------------------\n",
      "\n",
      "Algo:  No modification\n",
      "Minibatch size  30\n",
      "Error  1.3343582211813415e-27\n",
      "Time: 0.5490221977233887 sec\n",
      "Gradient calls:  188000\n",
      "-------------------------===-------------------------\n",
      "\n",
      "Algo:  Momentum\n",
      "Minibatch size  30\n",
      "Error  5.237247549762297e-28\n",
      "Time: 0.5559160709381104 sec\n",
      "Gradient calls:  188000\n",
      "-------------------------===-------------------------\n",
      "\n",
      "Algo:  Nesterov\n",
      "Minibatch size  30\n",
      "Error  5.26249109872937e-28\n",
      "Time: 0.5615940093994141 sec\n",
      "Gradient calls:  188000\n",
      "-------------------------===-------------------------\n",
      "\n",
      "Algo:  Adagrad\n",
      "Minibatch size  30\n",
      "Error  3.397968428293279e-07\n",
      "Time: 0.3106420040130615 sec\n",
      "Gradient calls:  109000\n",
      "-------------------------===-------------------------\n",
      "\n",
      "Algo:  No modification\n",
      "Minibatch size  40\n",
      "Error  1.004259375391609e-27\n",
      "Time: 0.5460820198059082 sec\n",
      "Gradient calls:  198000\n",
      "-------------------------===-------------------------\n",
      "\n",
      "Algo:  Momentum\n",
      "Minibatch size  40\n",
      "Error  5.235374005112398e-28\n",
      "Time: 0.5564382076263428 sec\n",
      "Gradient calls:  198000\n",
      "-------------------------===-------------------------\n",
      "\n",
      "Algo:  Nesterov\n",
      "Minibatch size  40\n",
      "Error  5.230246409228461e-28\n",
      "Time: 0.5453450679779053 sec\n",
      "Gradient calls:  198000\n",
      "-------------------------===-------------------------\n",
      "\n",
      "Algo:  Adagrad\n",
      "Minibatch size  40\n",
      "Error  4.251117071385312e-06\n",
      "Time: 0.2978951930999756 sec\n",
      "Gradient calls:  119000\n",
      "-------------------------===-------------------------\n",
      "\n",
      "Algo:  No modification\n",
      "Minibatch size  50\n",
      "Error  5.237247549762297e-28\n",
      "Time: 0.5531208515167236 sec\n",
      "Gradient calls:  208000\n",
      "-------------------------===-------------------------\n",
      "\n",
      "Algo:  Momentum\n",
      "Minibatch size  50\n",
      "Error  5.26249109872937e-28\n",
      "Time: 0.5578560829162598 sec\n",
      "Gradient calls:  208000\n",
      "-------------------------===-------------------------\n",
      "\n",
      "Algo:  Nesterov\n",
      "Minibatch size  50\n",
      "Error  5.230246409228461e-28\n",
      "Time: 0.5529241561889648 sec\n",
      "Gradient calls:  208000\n",
      "-------------------------===-------------------------\n",
      "\n",
      "Algo:  Adagrad\n",
      "Minibatch size  50\n",
      "Error  1.067652968559395e-06\n",
      "Time: 0.30242109298706055 sec\n",
      "Gradient calls:  129000\n",
      "-------------------------===-------------------------\n",
      "\n",
      "Algo:  No modification\n",
      "Minibatch size  60\n",
      "Error  5.237247549762297e-28\n",
      "Time: 0.5430698394775391 sec\n",
      "Gradient calls:  218000\n",
      "-------------------------===-------------------------\n",
      "\n",
      "Algo:  Momentum\n",
      "Minibatch size  60\n",
      "Error  5.237247549762297e-28\n",
      "Time: 0.5479209423065186 sec\n",
      "Gradient calls:  218000\n",
      "-------------------------===-------------------------\n",
      "\n",
      "Algo:  Nesterov\n",
      "Minibatch size  60\n",
      "Error  5.237247549762297e-28\n",
      "Time: 0.5582561492919922 sec\n",
      "Gradient calls:  218000\n",
      "-------------------------===-------------------------\n",
      "\n",
      "Algo:  Adagrad\n",
      "Minibatch size  60\n",
      "Error  3.6344992380655e-07\n",
      "Time: 0.2925422191619873 sec\n",
      "Gradient calls:  139000\n",
      "-------------------------===-------------------------\n",
      "\n",
      "Algo:  No modification\n",
      "Minibatch size  70\n",
      "Error  5.26249109872937e-28\n",
      "Time: 0.5412571430206299 sec\n",
      "Gradient calls:  228000\n",
      "-------------------------===-------------------------\n",
      "\n",
      "Algo:  Momentum\n",
      "Minibatch size  70\n",
      "Error  5.235374005112398e-28\n",
      "Time: 0.5525150299072266 sec\n",
      "Gradient calls:  228000\n",
      "-------------------------===-------------------------\n",
      "\n",
      "Algo:  Nesterov\n",
      "Minibatch size  70\n",
      "Error  2.2057536986111017e-28\n",
      "Time: 0.5459411144256592 sec\n",
      "Gradient calls:  228000\n",
      "-------------------------===-------------------------\n",
      "\n",
      "Algo:  Adagrad\n",
      "Minibatch size  70\n",
      "Error  0.17657131148335334\n",
      "Time: 0.2899749279022217 sec\n",
      "Gradient calls:  149000\n",
      "-------------------------===-------------------------\n",
      "\n",
      "Algo:  No modification\n",
      "Minibatch size  80\n",
      "Error  5.237247549762297e-28\n",
      "Time: 0.5318961143493652 sec\n",
      "Gradient calls:  238000\n",
      "-------------------------===-------------------------\n",
      "\n",
      "Algo:  Momentum\n",
      "Minibatch size  80\n",
      "Error  5.235374005112398e-28\n",
      "Time: 0.538877010345459 sec\n",
      "Gradient calls:  238000\n",
      "-------------------------===-------------------------\n",
      "\n",
      "Algo:  Nesterov\n",
      "Minibatch size  80\n",
      "Error  5.237247549762297e-28\n",
      "Time: 0.535944938659668 sec\n",
      "Gradient calls:  238000\n",
      "-------------------------===-------------------------\n",
      "\n",
      "Algo:  Adagrad\n",
      "Minibatch size  80\n",
      "Error  0.012706719666550955\n",
      "Time: 0.29087162017822266 sec\n",
      "Gradient calls:  159000\n"
     ]
    }
   ],
   "source": [
    "import time\n",
    "\n",
    "\n",
    "class Statistics():\n",
    "    def __init__(self):\n",
    "        self.error: float = 0.0\n",
    "        self.grad_call_count: int = 0\n",
    "        self.time_sec: float = 0\n",
    "        self.memory_mb: float = memory_usage()[0]\n",
    "\n",
    "    def print(self, minibatch_size, algo):\n",
    "        print(\"-------------------------===-------------------------\")\n",
    "        print()\n",
    "        print(f\"Algo: \", algo)\n",
    "        print(\"Minibatch size \", minibatch_size)\n",
    "        print(\"Error \", self.error)\n",
    "        print(f\"Time: {self.time_sec} sec\")\n",
    "        print(\"Gradient calls: \", self.grad_call_count)\n",
    "\n",
    "\n",
    "def SGD_with_mods_and_stat(minibatch_size, num_iters, lr, mod, X, Y):\n",
    "    statistics = Statistics()\n",
    "    start = time.time()\n",
    "    n = len(X)\n",
    "    ws = []\n",
    "    trace = []\n",
    "    w = np.zeros(len(X[0]), dtype=numpy.float64)\n",
    "    for i in range(num_iters):\n",
    "        perm = np.random.permutation(n)\n",
    "        k = 0\n",
    "        if i % 10 == 0:\n",
    "            trace.append([X[perm[0]], Y[perm[0]]])\n",
    "\n",
    "        def calc_grad(w):\n",
    "            grad = np.zeros(len(X[0]))\n",
    "            for j in range(min(minibatch_size, n - k - 1)):\n",
    "                idx = perm[k + j]\n",
    "                statistics.grad_call_count += 1\n",
    "                grad = grad + calc_diff(w, X[idx], Y[idx])\n",
    "            return grad\n",
    "\n",
    "        prev_g = np.zeros(len(X[0]))\n",
    "        while k < n:\n",
    "            tmp, prev = mod(lr, calc_grad, w, prev_g)\n",
    "            w = w - tmp\n",
    "            prev_g = copy.deepcopy(prev)\n",
    "            k += minibatch_size\n",
    "        if i % 10 == 0:\n",
    "            ws.append(w)\n",
    "\n",
    "    statistics.grad_call_count += minibatch_size * num_iters\n",
    "    statistics.time_sec = time.time() - start\n",
    "    return w, ws, trace, statistics\n",
    "\n",
    "\n",
    "X_train_norm, X_test_norm, Y_train_norm, Y_test_norm = train_test_split(X, Y, test_size=TEST_SIZE, random_state=RANDOM_CONST)\n",
    "\n",
    "x_norm = []\n",
    "y_norm = []\n",
    "algos = [step_simple, step_momentum, step_Nesterov, step_adagrad]\n",
    "algos_name = [\"No modification\", \"Momentum\", \"Nesterov\", \"Adagrad\"]\n",
    "\n",
    "for i in range(20, 81, 10):\n",
    "    for ai in range(len(algos)):\n",
    "        w, ws, trace, statistics = SGD_with_mods_and_stat(i, 1000, 0.001, algos[ai], X_train_norm, Y_train_norm)\n",
    "        statistics.error = validate(w, X_test_norm, Y_test_norm)\n",
    "        statistics.print(i, algos_name[ai])"
   ],
   "metadata": {
    "collapsed": false,
    "pycharm": {
     "name": "#%%\n"
    }
   }
  },
  {
   "cell_type": "markdown",
   "source": [
    "## Пункт #5: Траектории спуска различных алгоритмов"
   ],
   "metadata": {
    "collapsed": false
   }
  },
  {
   "cell_type": "code",
   "execution_count": 51,
   "outputs": [],
   "source": [
    "def SGD_with_mods_and_space(minibatch_size, num_iters, lr, mod, X, Y, space):\n",
    "    n = len(X)\n",
    "    ws = []\n",
    "    trace = []\n",
    "    w = np.zeros(len(X[0]), dtype=numpy.float64)\n",
    "    for i in range(num_iters):\n",
    "        perm = np.random.permutation(n)\n",
    "        k = 0\n",
    "        if i % 10 == 0:\n",
    "            trace.append([X[perm[0]], Y[perm[0]]])\n",
    "\n",
    "        def calc_grad(w):\n",
    "            grad = np.zeros(len(X[0]))\n",
    "            for j in range(min(minibatch_size, n - k - 1)):\n",
    "                idx = perm[k + j]\n",
    "                grad = grad + calc_diff(w, X[idx], Y[idx])\n",
    "            return grad\n",
    "\n",
    "        prev_g = np.zeros(len(X[0]))\n",
    "        while k < n:\n",
    "            tmp, prev = mod(lr, calc_grad, w, prev_g)\n",
    "            w = w - tmp\n",
    "            prev_g = copy.deepcopy(prev)\n",
    "            k += minibatch_size\n",
    "        if i % 10 == 0:\n",
    "            ws.append(w)\n",
    "    return w, ws, trace\n",
    "\n",
    "num_features = 1\n",
    "num_samples = 100\n",
    "tmp, Y = make_regression(n_samples=num_samples, n_features=num_features)\n",
    "\n",
    "Y = np.array(Y, dtype=numpy.float64)\n",
    "\n",
    "X = []\n",
    "for x in tmp:\n",
    "    arr = [1]\n",
    "    for elem in x:\n",
    "        arr.append(elem)\n",
    "    X.append(np.array(arr, dtype=numpy.float64))\n",
    "\n",
    "X_train, X_test, Y_train, Y_test = train_test_split(X, Y, test_size=TEST_SIZE, random_state=RANDOM_CONST)"
   ],
   "metadata": {
    "collapsed": false,
    "pycharm": {
     "name": "#%%\n"
    }
   }
  },
  {
   "cell_type": "code",
   "execution_count": 63,
   "outputs": [
    {
     "data": {
      "text/plain": "<Figure size 432x288 with 1 Axes>",
      "image/png": "[encoded data removed]"
     },
     "metadata": {
      "needs_background": "light"
     },
     "output_type": "display_data"
    },
    {
     "data": {
      "text/plain": "<Figure size 432x288 with 1 Axes>",
      "image/png": "[encoded data removed]"
     },
     "metadata": {
      "needs_background": "light"
     },
     "output_type": "display_data"
    },
    {
     "data": {
      "text/plain": "<Figure size 432x288 with 1 Axes>",
      "image/png": "[encoded data removed]"
     },
     "metadata": {
      "needs_background": "light"
     },
     "output_type": "display_data"
    },
    {
     "data": {
      "text/plain": "<Figure size 432x288 with 1 Axes>",
      "image/png": "[encoded data removed]"
     },
     "metadata": {
      "needs_background": "light"
     },
     "output_type": "display_data"
    }
   ],
   "source": [
    "algos = [step_simple, step_momentum, step_Nesterov, step_adagrad]\n",
    "space = np.linspace(-15, 80, 100)\n",
    "space1 = np.linspace(-1, 7, 100)\n",
    "\n",
    "def calc_big_error(w, Xs, Ys):\n",
    "    arr = [calc_error(w, Xs[i], Ys[i]) for i in range(len(Xs))]\n",
    "    return sum(arr)\n",
    "\n",
    "for algo in algos:\n",
    "    w, ws, trace = SGD_with_mods_and_space(50, 1000, 0.001, algo, X_train, Y_train, space)\n",
    "    w0 = [ws[i][0] for i in range(len(ws))]\n",
    "    w1 = [ws[i][1] for i in range(len(ws))]\n",
    "    plt.plot(w1, w0, 'o-')\n",
    "    x1, y1 = np.meshgrid(space, space1)\n",
    "    z = []\n",
    "    for i in range(len(x1)):\n",
    "        z.append([])\n",
    "        for j in range(len(x1)):\n",
    "            z[i].append(calc_big_error([x1[i][j], y1[i][j]], X_train, Y_train))\n",
    "    plt.contourf(x1, y1, z)\n",
    "    plt.show()"
   ],
   "metadata": {
    "collapsed": false,
    "pycharm": {
     "name": "#%%\n"
    }
   }
  },
  {
   "cell_type": "code",
   "execution_count": 52,
   "outputs": [],
   "source": [],
   "metadata": {
    "collapsed": false,
    "pycharm": {
     "name": "#%%\n"
    }
   }
  },
  {
   "cell_type": "code",
   "execution_count": 52,
   "outputs": [],
   "source": [],
   "metadata": {
    "collapsed": false,
    "pycharm": {
     "name": "#%%\n"
    }
   }
  }
 ],
 "metadata": {
  "kernelspec": {
   "display_name": "Python 3",
   "language": "python",
   "name": "python3"
  },
  "language_info": {
   "codemirror_mode": {
    "name": "ipython",
    "version": 2
   },
   "file_extension": ".py",
   "mimetype": "text/x-python",
   "name": "python",
   "nbconvert_exporter": "python",
   "pygments_lexer": "ipython2",
   "version": "2.7.6"
  }
 },
 "nbformat": 4,
 "nbformat_minor": 0
}